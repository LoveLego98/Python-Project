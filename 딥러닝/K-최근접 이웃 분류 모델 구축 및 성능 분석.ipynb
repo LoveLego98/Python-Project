{
 "cells": [
  {
   "cell_type": "code",
   "execution_count": null,
   "id": "f2a50d9d-d210-426d-939f-fee74f90a649",
   "metadata": {},
   "outputs": [],
   "source": []
  }
 ],
 "metadata": {
  "kernelspec": {
   "display_name": "",
   "name": ""
  },
  "language_info": {
   "name": ""
  }
 },
 "nbformat": 4,
 "nbformat_minor": 5
}
